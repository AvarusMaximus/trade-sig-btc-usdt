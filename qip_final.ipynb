{
 "cells": [
  {
   "cell_type": "markdown",
   "metadata": {},
   "source": [
    "### ML model\n",
    "- I am using the LSTM (Long Short Term Memory) model which is a kind of a Recurrent Neural Network (RNN) to predict the prices of the stocks."
   ]
  },
  {
   "cell_type": "code",
   "execution_count": 1,
   "metadata": {},
   "outputs": [
    {
     "name": "stdout",
     "output_type": "stream",
     "text": [
      "WARNING:tensorflow:From C:\\Users\\theri\\AppData\\Local\\Packages\\PythonSoftwareFoundation.Python.3.11_qbz5n2kfra8p0\\LocalCache\\local-packages\\Python311\\site-packages\\keras\\src\\losses.py:2976: The name tf.losses.sparse_softmax_cross_entropy is deprecated. Please use tf.compat.v1.losses.sparse_softmax_cross_entropy instead.\n",
      "\n"
     ]
    }
   ],
   "source": [
    "import pandas as pd\n",
    "import numpy as np \n",
    "import matplotlib.pyplot as plt\n",
    "from keras.models import Sequential\n",
    "from keras.layers import Dense, LSTM, Dropout\n",
    "from sklearn.preprocessing import StandardScaler"
   ]
  },
  {
   "cell_type": "code",
   "execution_count": 2,
   "metadata": {},
   "outputs": [
    {
     "data": {
      "text/html": [
       "<div>\n",
       "<style scoped>\n",
       "    .dataframe tbody tr th:only-of-type {\n",
       "        vertical-align: middle;\n",
       "    }\n",
       "\n",
       "    .dataframe tbody tr th {\n",
       "        vertical-align: top;\n",
       "    }\n",
       "\n",
       "    .dataframe thead th {\n",
       "        text-align: right;\n",
       "    }\n",
       "</style>\n",
       "<table border=\"1\" class=\"dataframe\">\n",
       "  <thead>\n",
       "    <tr style=\"text-align: right;\">\n",
       "      <th></th>\n",
       "      <th>open_time</th>\n",
       "      <th>open</th>\n",
       "      <th>high</th>\n",
       "      <th>low</th>\n",
       "      <th>close</th>\n",
       "      <th>volume</th>\n",
       "    </tr>\n",
       "  </thead>\n",
       "  <tbody>\n",
       "    <tr>\n",
       "      <th>0</th>\n",
       "      <td>2023-11-01 00:00:00</td>\n",
       "      <td>34651.4</td>\n",
       "      <td>34676.5</td>\n",
       "      <td>34650.0</td>\n",
       "      <td>34669.9</td>\n",
       "      <td>376.040</td>\n",
       "    </tr>\n",
       "    <tr>\n",
       "      <th>1</th>\n",
       "      <td>2023-11-01 00:01:00</td>\n",
       "      <td>34669.9</td>\n",
       "      <td>34684.0</td>\n",
       "      <td>34637.3</td>\n",
       "      <td>34637.4</td>\n",
       "      <td>431.177</td>\n",
       "    </tr>\n",
       "    <tr>\n",
       "      <th>2</th>\n",
       "      <td>2023-11-01 00:02:00</td>\n",
       "      <td>34637.4</td>\n",
       "      <td>34653.4</td>\n",
       "      <td>34632.5</td>\n",
       "      <td>34651.4</td>\n",
       "      <td>175.894</td>\n",
       "    </tr>\n",
       "    <tr>\n",
       "      <th>3</th>\n",
       "      <td>2023-11-01 00:03:00</td>\n",
       "      <td>34651.3</td>\n",
       "      <td>34651.4</td>\n",
       "      <td>34608.6</td>\n",
       "      <td>34621.1</td>\n",
       "      <td>476.587</td>\n",
       "    </tr>\n",
       "    <tr>\n",
       "      <th>4</th>\n",
       "      <td>2023-11-01 00:04:00</td>\n",
       "      <td>34621.1</td>\n",
       "      <td>34622.6</td>\n",
       "      <td>34592.0</td>\n",
       "      <td>34615.4</td>\n",
       "      <td>546.312</td>\n",
       "    </tr>\n",
       "  </tbody>\n",
       "</table>\n",
       "</div>"
      ],
      "text/plain": [
       "            open_time     open     high      low    close   volume\n",
       "0 2023-11-01 00:00:00  34651.4  34676.5  34650.0  34669.9  376.040\n",
       "1 2023-11-01 00:01:00  34669.9  34684.0  34637.3  34637.4  431.177\n",
       "2 2023-11-01 00:02:00  34637.4  34653.4  34632.5  34651.4  175.894\n",
       "3 2023-11-01 00:03:00  34651.3  34651.4  34608.6  34621.1  476.587\n",
       "4 2023-11-01 00:04:00  34621.1  34622.6  34592.0  34615.4  546.312"
      ]
     },
     "execution_count": 2,
     "metadata": {},
     "output_type": "execute_result"
    }
   ],
   "source": [
    "# Loading the 1m OHLC dataset dataset\n",
    "\n",
    "df = pd.read_csv('BTCUSDT-1m-2023-11.csv')\n",
    "df = df[['open_time', 'open', 'high', 'low', 'close', 'volume']]\n",
    "df['open_time'] = pd.to_datetime(df['open_time'], unit='ms')\n",
    "df = df.dropna()\n",
    "df.head()"
   ]
  },
  {
   "cell_type": "code",
   "execution_count": 3,
   "metadata": {},
   "outputs": [],
   "source": [
    "cols = list(df)[1:6] # Training variables\n",
    "train_time = df['open_time']\n",
    "df_for_model = (df[cols].astype(float))"
   ]
  },
  {
   "cell_type": "code",
   "execution_count": 4,
   "metadata": {},
   "outputs": [
    {
     "data": {
      "text/plain": [
       "array([[-1.70430512, -1.69168904, -1.69464359, -1.68728218,  0.39234912],\n",
       "       [-1.68718429, -1.68474878, -1.70639675, -1.71735993,  0.51842516],\n",
       "       [-1.71726143, -1.71306504, -1.71083889, -1.70440336, -0.06530393],\n",
       "       ...,\n",
       "       [ 1.11332175,  1.10255216,  1.12037648,  1.10948575, -0.41196789],\n",
       "       [ 1.1095274 ,  1.10412528,  1.12037648,  1.11494602, -0.41956854],\n",
       "       [ 1.11489501,  1.12179981,  1.12046902,  1.13252993, -0.34352779]])"
      ]
     },
     "execution_count": 4,
     "metadata": {},
     "output_type": "execute_result"
    }
   ],
   "source": [
    "# LSTM uses sigmoid and tanh that are sensitive to magnitude so values need to be normalized\n",
    "\n",
    "scaler = StandardScaler()\n",
    "scaler = scaler.fit(df_for_model)\n",
    "df_for_model_scaled = scaler.transform(df_for_model)\n",
    "df_for_model_scaled"
   ]
  },
  {
   "cell_type": "code",
   "execution_count": 5,
   "metadata": {},
   "outputs": [],
   "source": [
    "# Training and Testing data\n",
    "\n",
    "df_for_training_scaled = df_for_model_scaled[:int(len(df_for_model)*0.67)]\n",
    "df_for_testing_scaled = df_for_model_scaled[int(len(df_for_model)*0.67):]"
   ]
  },
  {
   "cell_type": "code",
   "execution_count": 6,
   "metadata": {},
   "outputs": [],
   "source": [
    "trainX = [] # Features: open, high, low, close, volume\n",
    "trainY = [] # Target, which is the closing price of the next minute\n",
    "\n",
    "testX = []\n",
    "testY = []\n",
    "\n",
    "n_future = 1 # Number of minutes we want to predict into the future\n",
    "n_past = 15 # Number of minutes we want to use to predict the future"
   ]
  },
  {
   "cell_type": "code",
   "execution_count": 7,
   "metadata": {},
   "outputs": [],
   "source": [
    "for i in range(n_past, len(df_for_training_scaled) - n_future + 1):\n",
    "    trainX.append(df_for_training_scaled[i - n_past:i, 0:df_for_training_scaled.shape[1]]) # Convert input data into 3-D array combining n_past. The shape of the array should be [samples, n_past, features], as required for LSTM network\n",
    "    trainY.append(df_for_training_scaled[i + n_future - 1:i + n_future, 3])\n",
    "    \n",
    "for i in range(n_past, len(df_for_testing_scaled) - n_future + 1):\n",
    "    testX.append(df_for_testing_scaled[i - n_past:i, 0:df_for_testing_scaled.shape[1]]) # Convert input data into 3-D array combining n_past. The shape of the array should be [samples, n_past, features], as required for LSTM network\n",
    "    testY.append(df_for_testing_scaled[i + n_future - 1:i + n_future, 3])"
   ]
  },
  {
   "cell_type": "code",
   "execution_count": 8,
   "metadata": {},
   "outputs": [],
   "source": [
    "trainX, trainY = np.array(trainX), np.array(trainY) # Convert to numpy arrays from lists\n",
    "testX, testY = np.array(testX), np.array(testY)"
   ]
  },
  {
   "cell_type": "code",
   "execution_count": 9,
   "metadata": {},
   "outputs": [
    {
     "name": "stdout",
     "output_type": "stream",
     "text": [
      "trainX shape == (28929, 15, 5).\n",
      "trainY shape == (28929, 1).\n"
     ]
    }
   ],
   "source": [
    "print('trainX shape == {}.'.format(trainX.shape))\n",
    "print('trainY shape == {}.'.format(trainY.shape))"
   ]
  },
  {
   "cell_type": "code",
   "execution_count": 10,
   "metadata": {},
   "outputs": [
    {
     "name": "stdout",
     "output_type": "stream",
     "text": [
      "WARNING:tensorflow:From C:\\Users\\theri\\AppData\\Local\\Packages\\PythonSoftwareFoundation.Python.3.11_qbz5n2kfra8p0\\LocalCache\\local-packages\\Python311\\site-packages\\keras\\src\\backend.py:873: The name tf.get_default_graph is deprecated. Please use tf.compat.v1.get_default_graph instead.\n",
      "\n",
      "WARNING:tensorflow:From C:\\Users\\theri\\AppData\\Local\\Packages\\PythonSoftwareFoundation.Python.3.11_qbz5n2kfra8p0\\LocalCache\\local-packages\\Python311\\site-packages\\keras\\src\\optimizers\\__init__.py:309: The name tf.train.Optimizer is deprecated. Please use tf.compat.v1.train.Optimizer instead.\n",
      "\n",
      "Model: \"sequential\"\n",
      "_________________________________________________________________\n",
      " Layer (type)                Output Shape              Param #   \n",
      "=================================================================\n",
      " lstm (LSTM)                 (None, 15, 64)            17920     \n",
      "                                                                 \n",
      " lstm_1 (LSTM)               (None, 32)                12416     \n",
      "                                                                 \n",
      " dropout (Dropout)           (None, 32)                0         \n",
      "                                                                 \n",
      " dense (Dense)               (None, 1)                 33        \n",
      "                                                                 \n",
      "=================================================================\n",
      "Total params: 30369 (118.63 KB)\n",
      "Trainable params: 30369 (118.63 KB)\n",
      "Non-trainable params: 0 (0.00 Byte)\n",
      "_________________________________________________________________\n"
     ]
    }
   ],
   "source": [
    "# Define Autoencoder model\n",
    "\n",
    "model = Sequential()\n",
    "model.add(LSTM(64, activation='relu', input_shape=(trainX.shape[1], trainX.shape[2]), return_sequences=True)) # We want this LSTM to give an output for the next LSTM because we have a stacked LSTM\n",
    "model.add(LSTM(32, activation='relu', return_sequences=False)) # Next layer is just a dropout layer to prevent overfitting\n",
    "model.add(Dropout(0.2))\n",
    "model.add(Dense(trainY.shape[1]))\n",
    "\n",
    "model.compile(optimizer='adam', loss='mse')\n",
    "model.summary()"
   ]
  },
  {
   "cell_type": "code",
   "execution_count": 11,
   "metadata": {},
   "outputs": [
    {
     "name": "stdout",
     "output_type": "stream",
     "text": [
      "Epoch 1/10\n",
      "WARNING:tensorflow:From C:\\Users\\theri\\AppData\\Local\\Packages\\PythonSoftwareFoundation.Python.3.11_qbz5n2kfra8p0\\LocalCache\\local-packages\\Python311\\site-packages\\keras\\src\\utils\\tf_utils.py:492: The name tf.ragged.RaggedTensorValue is deprecated. Please use tf.compat.v1.ragged.RaggedTensorValue instead.\n",
      "\n",
      "1628/1628 [==============================] - 15s 8ms/step - loss: 0.0391 - val_loss: 0.0059\n",
      "Epoch 2/10\n",
      "1628/1628 [==============================] - 9s 5ms/step - loss: 0.0226 - val_loss: 0.0016\n",
      "Epoch 3/10\n",
      "1628/1628 [==============================] - 8s 5ms/step - loss: 0.0214 - val_loss: 0.0026\n",
      "Epoch 4/10\n",
      "1628/1628 [==============================] - 11s 7ms/step - loss: 0.0199 - val_loss: 0.0014\n",
      "Epoch 5/10\n",
      "1628/1628 [==============================] - 13s 8ms/step - loss: 0.0191 - val_loss: 6.9768e-04\n",
      "Epoch 6/10\n",
      "1628/1628 [==============================] - 9s 5ms/step - loss: 0.0195 - val_loss: 0.0026\n",
      "Epoch 7/10\n",
      "1628/1628 [==============================] - 8s 5ms/step - loss: 0.0186 - val_loss: 0.0051\n",
      "Epoch 8/10\n",
      "1628/1628 [==============================] - 8s 5ms/step - loss: 0.0185 - val_loss: 0.0026\n",
      "Epoch 9/10\n",
      "1628/1628 [==============================] - 8s 5ms/step - loss: 0.0188 - val_loss: 0.0038\n",
      "Epoch 10/10\n",
      "1628/1628 [==============================] - 8s 5ms/step - loss: 0.0187 - val_loss: 0.0041\n"
     ]
    }
   ],
   "source": [
    "# Fit model\n",
    "\n",
    "history = model.fit(trainX, trainY, epochs=10, batch_size=16, validation_split=0.1, verbose=1)"
   ]
  },
  {
   "cell_type": "code",
   "execution_count": 12,
   "metadata": {},
   "outputs": [
    {
     "data": {
      "text/plain": [
       "<matplotlib.legend.Legend at 0x135810c5210>"
      ]
     },
     "execution_count": 12,
     "metadata": {},
     "output_type": "execute_result"
    },
    {
     "data": {
      "image/png": "[encoded data removed]",
      "text/plain": [
       "<Figure size 640x480 with 1 Axes>"
      ]
     },
     "metadata": {},
     "output_type": "display_data"
    }
   ],
   "source": [
    "plt.plot(history.history['loss'], label='Training Loss')\n",
    "plt.plot(history.history['val_loss'], label='Validation Loss')\n",
    "# The training loss indicates how well the model is fitting the training data, while the validation loss indicates how well the model fits new data\n",
    "plt.legend()"
   ]
  },
  {
   "cell_type": "code",
   "execution_count": 13,
   "metadata": {},
   "outputs": [
    {
     "name": "stdout",
     "output_type": "stream",
     "text": [
      "446/446 [==============================] - 1s 2ms/step - loss: 0.0122\n"
     ]
    },
    {
     "data": {
      "text/plain": [
       "0.012187534011900425"
      ]
     },
     "execution_count": 13,
     "metadata": {},
     "output_type": "execute_result"
    }
   ],
   "source": [
    "model.evaluate(testX, testY) # Evaluating the model"
   ]
  },
  {
   "cell_type": "code",
   "execution_count": 14,
   "metadata": {},
   "outputs": [
    {
     "data": {
      "text/plain": [
       "array([0.04644597, 0.07447242, 0.04981271, ..., 0.10430823, 0.09404533,\n",
       "       0.07079344])"
      ]
     },
     "execution_count": 14,
     "metadata": {},
     "output_type": "execute_result"
    }
   ],
   "source": [
    "# Finding Mean Absolute Error loss on the training data, which will be set as the reconstruction error threshold. If the reconstruction loss for a data point in the test set is greater than this reconstruction error threshold value then we will label this data point as an anomaly.\n",
    "\n",
    "trainX_pred = model.predict(trainX, verbose=0)\n",
    "train_mae_loss = np.mean(np.abs(trainX_pred - trainY), axis=1)\n",
    "train_mae_loss"
   ]
  },
  {
   "cell_type": "code",
   "execution_count": 15,
   "metadata": {},
   "outputs": [
    {
     "data": {
      "image/png": "[encoded data removed]",
      "text/plain": [
       "<Figure size 640x480 with 1 Axes>"
      ]
     },
     "metadata": {},
     "output_type": "display_data"
    }
   ],
   "source": [
    "plt.hist(train_mae_loss, bins=50)\n",
    "plt.xlabel('Train MAE loss')\n",
    "plt.ylabel('Number of Samples');"
   ]
  },
  {
   "cell_type": "code",
   "execution_count": 16,
   "metadata": {},
   "outputs": [
    {
     "name": "stdout",
     "output_type": "stream",
     "text": [
      "Reconstruction error threshold: 0.7339482265063375\n"
     ]
    }
   ],
   "source": [
    "threshold = np.max(train_mae_loss)\n",
    "print(f'Reconstruction error threshold: {threshold}')"
   ]
  },
  {
   "cell_type": "code",
   "execution_count": 17,
   "metadata": {},
   "outputs": [
    {
     "name": "stdout",
     "output_type": "stream",
     "text": [
      "446/446 [==============================] - 1s 2ms/step\n"
     ]
    }
   ],
   "source": [
    "testX_pred = model.predict(testX) # Predicted values of the test set"
   ]
  },
  {
   "cell_type": "code",
   "execution_count": 18,
   "metadata": {},
   "outputs": [
    {
     "data": {
      "text/plain": [
       "0.4000423158462989"
      ]
     },
     "execution_count": 18,
     "metadata": {},
     "output_type": "execute_result"
    }
   ],
   "source": [
    "test_mae_loss = np.mean(np.abs(testX_pred - testY), axis=1)\n",
    "np.max(test_mae_loss)"
   ]
  },
  {
   "cell_type": "code",
   "execution_count": 19,
   "metadata": {},
   "outputs": [
    {
     "data": {
      "image/png": "[encoded data removed]",
      "text/plain": [
       "<Figure size 640x480 with 1 Axes>"
      ]
     },
     "metadata": {},
     "output_type": "display_data"
    }
   ],
   "source": [
    "plt.hist(test_mae_loss, bins=50)\n",
    "plt.xlabel('Test MAE loss')\n",
    "plt.ylabel('Number of samples');"
   ]
  },
  {
   "cell_type": "code",
   "execution_count": 20,
   "metadata": {},
   "outputs": [],
   "source": [
    "test_score_df = pd.DataFrame(df_for_testing_scaled[n_past:])\n",
    "test_score_df['loss'] = test_mae_loss\n",
    "test_score_df['threshold'] = threshold\n",
    "test_score_df['anomaly'] = test_score_df['loss'] > test_score_df['threshold']\n",
    "test_score_df['close'] = df[n_past:].close"
   ]
  },
  {
   "cell_type": "code",
   "execution_count": 21,
   "metadata": {},
   "outputs": [
    {
     "data": {
      "text/plain": [
       "anomaly\n",
       "False    14241\n",
       "Name: count, dtype: int64"
      ]
     },
     "execution_count": 21,
     "metadata": {},
     "output_type": "execute_result"
    }
   ],
   "source": [
    "test_score_df.anomaly.value_counts()"
   ]
  },
  {
   "cell_type": "markdown",
   "metadata": {},
   "source": [
    "Since the (max MAE_test) < (max MAE_train), the model didn't detect any anomalies in the test set. This is a good sign that the model is not overfitting."
   ]
  },
  {
   "cell_type": "code",
   "execution_count": 22,
   "metadata": {},
   "outputs": [],
   "source": [
    "''' \n",
    "Perform inverse transformation to rescale back to original range\n",
    "Since we used 5 variables (open, high, low, close, volume) for transform, the inverse expects same dimensions\n",
    "Therefore, let us copy our values 5 times and discard them after inverse transform\n",
    "'''\n",
    "\n",
    "forecast_copies = np.repeat(testX_pred, df_for_testing_scaled.shape[1], axis=-1)\n",
    "y_pred = scaler.inverse_transform(forecast_copies)[:,3] # Select only the 3rd column (close price)"
   ]
  },
  {
   "cell_type": "code",
   "execution_count": 23,
   "metadata": {},
   "outputs": [
    {
     "data": {
      "text/html": [
       "<div>\n",
       "<style scoped>\n",
       "    .dataframe tbody tr th:only-of-type {\n",
       "        vertical-align: middle;\n",
       "    }\n",
       "\n",
       "    .dataframe tbody tr th {\n",
       "        vertical-align: top;\n",
       "    }\n",
       "\n",
       "    .dataframe thead th {\n",
       "        text-align: right;\n",
       "    }\n",
       "</style>\n",
       "<table border=\"1\" class=\"dataframe\">\n",
       "  <thead>\n",
       "    <tr style=\"text-align: right;\">\n",
       "      <th></th>\n",
       "      <th>open_time</th>\n",
       "      <th>close</th>\n",
       "    </tr>\n",
       "  </thead>\n",
       "  <tbody>\n",
       "    <tr>\n",
       "      <th>0</th>\n",
       "      <td>2023-11-21 02:39:00</td>\n",
       "      <td>37596.1</td>\n",
       "    </tr>\n",
       "    <tr>\n",
       "      <th>1</th>\n",
       "      <td>2023-11-21 02:40:00</td>\n",
       "      <td>37642.5</td>\n",
       "    </tr>\n",
       "    <tr>\n",
       "      <th>2</th>\n",
       "      <td>2023-11-21 02:41:00</td>\n",
       "      <td>37648.4</td>\n",
       "    </tr>\n",
       "    <tr>\n",
       "      <th>3</th>\n",
       "      <td>2023-11-21 02:42:00</td>\n",
       "      <td>37588.4</td>\n",
       "    </tr>\n",
       "    <tr>\n",
       "      <th>4</th>\n",
       "      <td>2023-11-21 02:43:00</td>\n",
       "      <td>37562.3</td>\n",
       "    </tr>\n",
       "  </tbody>\n",
       "</table>\n",
       "</div>"
      ],
      "text/plain": [
       "            open_time    close\n",
       "0 2023-11-21 02:39:00  37596.1\n",
       "1 2023-11-21 02:40:00  37642.5\n",
       "2 2023-11-21 02:41:00  37648.4\n",
       "3 2023-11-21 02:42:00  37588.4\n",
       "4 2023-11-21 02:43:00  37562.3"
      ]
     },
     "execution_count": 23,
     "metadata": {},
     "output_type": "execute_result"
    }
   ],
   "source": [
    "predictions = df[['open_time', 'close']]\n",
    "predictions = predictions[int(len(predictions)*0.67)+15:]\n",
    "predictions = predictions.reset_index()\n",
    "predictions = predictions[['open_time', 'close']]\n",
    "predictions.head()"
   ]
  },
  {
   "cell_type": "code",
   "execution_count": 24,
   "metadata": {},
   "outputs": [
    {
     "data": {
      "text/html": [
       "<div>\n",
       "<style scoped>\n",
       "    .dataframe tbody tr th:only-of-type {\n",
       "        vertical-align: middle;\n",
       "    }\n",
       "\n",
       "    .dataframe tbody tr th {\n",
       "        vertical-align: top;\n",
       "    }\n",
       "\n",
       "    .dataframe thead th {\n",
       "        text-align: right;\n",
       "    }\n",
       "</style>\n",
       "<table border=\"1\" class=\"dataframe\">\n",
       "  <thead>\n",
       "    <tr style=\"text-align: right;\">\n",
       "      <th></th>\n",
       "      <th>close_pred</th>\n",
       "    </tr>\n",
       "  </thead>\n",
       "  <tbody>\n",
       "    <tr>\n",
       "      <th>0</th>\n",
       "      <td>37467.824219</td>\n",
       "    </tr>\n",
       "    <tr>\n",
       "      <th>1</th>\n",
       "      <td>37472.085938</td>\n",
       "    </tr>\n",
       "    <tr>\n",
       "      <th>2</th>\n",
       "      <td>37507.140625</td>\n",
       "    </tr>\n",
       "    <tr>\n",
       "      <th>3</th>\n",
       "      <td>37508.003906</td>\n",
       "    </tr>\n",
       "    <tr>\n",
       "      <th>4</th>\n",
       "      <td>37491.519531</td>\n",
       "    </tr>\n",
       "  </tbody>\n",
       "</table>\n",
       "</div>"
      ],
      "text/plain": [
       "     close_pred\n",
       "0  37467.824219\n",
       "1  37472.085938\n",
       "2  37507.140625\n",
       "3  37508.003906\n",
       "4  37491.519531"
      ]
     },
     "execution_count": 24,
     "metadata": {},
     "output_type": "execute_result"
    }
   ],
   "source": [
    "y_pred = pd.DataFrame(y_pred, columns=['close_pred'])\n",
    "y_pred.head()"
   ]
  },
  {
   "cell_type": "code",
   "execution_count": 25,
   "metadata": {},
   "outputs": [
    {
     "data": {
      "text/html": [
       "<div>\n",
       "<style scoped>\n",
       "    .dataframe tbody tr th:only-of-type {\n",
       "        vertical-align: middle;\n",
       "    }\n",
       "\n",
       "    .dataframe tbody tr th {\n",
       "        vertical-align: top;\n",
       "    }\n",
       "\n",
       "    .dataframe thead th {\n",
       "        text-align: right;\n",
       "    }\n",
       "</style>\n",
       "<table border=\"1\" class=\"dataframe\">\n",
       "  <thead>\n",
       "    <tr style=\"text-align: right;\">\n",
       "      <th></th>\n",
       "      <th>open_time</th>\n",
       "      <th>close</th>\n",
       "      <th>close_pred</th>\n",
       "    </tr>\n",
       "  </thead>\n",
       "  <tbody>\n",
       "    <tr>\n",
       "      <th>0</th>\n",
       "      <td>2023-11-21 02:39:00</td>\n",
       "      <td>37596.1</td>\n",
       "      <td>37467.824219</td>\n",
       "    </tr>\n",
       "    <tr>\n",
       "      <th>1</th>\n",
       "      <td>2023-11-21 02:40:00</td>\n",
       "      <td>37642.5</td>\n",
       "      <td>37472.085938</td>\n",
       "    </tr>\n",
       "    <tr>\n",
       "      <th>2</th>\n",
       "      <td>2023-11-21 02:41:00</td>\n",
       "      <td>37648.4</td>\n",
       "      <td>37507.140625</td>\n",
       "    </tr>\n",
       "    <tr>\n",
       "      <th>3</th>\n",
       "      <td>2023-11-21 02:42:00</td>\n",
       "      <td>37588.4</td>\n",
       "      <td>37508.003906</td>\n",
       "    </tr>\n",
       "    <tr>\n",
       "      <th>4</th>\n",
       "      <td>2023-11-21 02:43:00</td>\n",
       "      <td>37562.3</td>\n",
       "      <td>37491.519531</td>\n",
       "    </tr>\n",
       "  </tbody>\n",
       "</table>\n",
       "</div>"
      ],
      "text/plain": [
       "            open_time    close    close_pred\n",
       "0 2023-11-21 02:39:00  37596.1  37467.824219\n",
       "1 2023-11-21 02:40:00  37642.5  37472.085938\n",
       "2 2023-11-21 02:41:00  37648.4  37507.140625\n",
       "3 2023-11-21 02:42:00  37588.4  37508.003906\n",
       "4 2023-11-21 02:43:00  37562.3  37491.519531"
      ]
     },
     "execution_count": 25,
     "metadata": {},
     "output_type": "execute_result"
    }
   ],
   "source": [
    "# Combining the actual and predicted values\n",
    "\n",
    "predictions = pd.concat([predictions, y_pred], axis=1)\n",
    "predictions.head()"
   ]
  },
  {
   "cell_type": "markdown",
   "metadata": {},
   "source": [
    "### Trade Signals based on RSI and Bollinger Bands "
   ]
  },
  {
   "cell_type": "code",
   "execution_count": 26,
   "metadata": {},
   "outputs": [],
   "source": [
    "import polars as pl \n",
    "import numpy as np \n",
    "import ta"
   ]
  },
  {
   "cell_type": "code",
   "execution_count": 27,
   "metadata": {},
   "outputs": [
    {
     "data": {
      "text/html": [
       "<div><style>\n",
       ".dataframe > thead > tr,\n",
       ".dataframe > tbody > tr {\n",
       "  text-align: right;\n",
       "  white-space: pre-wrap;\n",
       "}\n",
       "</style>\n",
       "<small>shape: (5, 7)</small><table border=\"1\" class=\"dataframe\"><thead><tr><th>open_time</th><th>open</th><th>high</th><th>low</th><th>close</th><th>volume</th><th>price</th></tr><tr><td>datetime[ms]</td><td>f64</td><td>f64</td><td>f64</td><td>f64</td><td>f64</td><td>f64</td></tr></thead><tbody><tr><td>2023-11-01 00:00:00</td><td>34651.4</td><td>34676.5</td><td>34650.0</td><td>34669.9</td><td>376.04</td><td>34637.4</td></tr><tr><td>2023-11-01 00:01:00</td><td>34669.9</td><td>34684.0</td><td>34637.3</td><td>34637.4</td><td>431.177</td><td>34651.4</td></tr><tr><td>2023-11-01 00:02:00</td><td>34637.4</td><td>34653.4</td><td>34632.5</td><td>34651.4</td><td>175.894</td><td>34621.1</td></tr><tr><td>2023-11-01 00:03:00</td><td>34651.3</td><td>34651.4</td><td>34608.6</td><td>34621.1</td><td>476.587</td><td>34615.4</td></tr><tr><td>2023-11-01 00:04:00</td><td>34621.1</td><td>34622.6</td><td>34592.0</td><td>34615.4</td><td>546.312</td><td>34599.4</td></tr></tbody></table></div>"
      ],
      "text/plain": [
       "shape: (5, 7)\n",
       "┌─────────────────────┬─────────┬─────────┬─────────┬─────────┬─────────┬─────────┐\n",
       "│ open_time           ┆ open    ┆ high    ┆ low     ┆ close   ┆ volume  ┆ price   │\n",
       "│ ---                 ┆ ---     ┆ ---     ┆ ---     ┆ ---     ┆ ---     ┆ ---     │\n",
       "│ datetime[ms]        ┆ f64     ┆ f64     ┆ f64     ┆ f64     ┆ f64     ┆ f64     │\n",
       "╞═════════════════════╪═════════╪═════════╪═════════╪═════════╪═════════╪═════════╡\n",
       "│ 2023-11-01 00:00:00 ┆ 34651.4 ┆ 34676.5 ┆ 34650.0 ┆ 34669.9 ┆ 376.04  ┆ 34637.4 │\n",
       "│ 2023-11-01 00:01:00 ┆ 34669.9 ┆ 34684.0 ┆ 34637.3 ┆ 34637.4 ┆ 431.177 ┆ 34651.4 │\n",
       "│ 2023-11-01 00:02:00 ┆ 34637.4 ┆ 34653.4 ┆ 34632.5 ┆ 34651.4 ┆ 175.894 ┆ 34621.1 │\n",
       "│ 2023-11-01 00:03:00 ┆ 34651.3 ┆ 34651.4 ┆ 34608.6 ┆ 34621.1 ┆ 476.587 ┆ 34615.4 │\n",
       "│ 2023-11-01 00:04:00 ┆ 34621.1 ┆ 34622.6 ┆ 34592.0 ┆ 34615.4 ┆ 546.312 ┆ 34599.4 │\n",
       "└─────────────────────┴─────────┴─────────┴─────────┴─────────┴─────────┴─────────┘"
      ]
     },
     "execution_count": 27,
     "metadata": {},
     "output_type": "execute_result"
    }
   ],
   "source": [
    "data_1m = pl.read_csv(\"BTCUSDT-1m-2023-11.csv\")\n",
    "data_1m = data_1m[['open_time', 'open', 'high', 'low', 'close', 'volume']]\n",
    "data_1m = data_1m.with_columns(data_1m['open_time'].to_frame().with_columns(pl.from_epoch(\"open_time\", time_unit=\"ms\")))\n",
    "data_1m = data_1m.with_columns(pl.Series(name = 'price', values = data_1m['close'].shift(-1)))\n",
    "data_1m = data_1m.drop_nulls()\n",
    "data_1m.head()"
   ]
  },
  {
   "cell_type": "code",
   "execution_count": 28,
   "metadata": {},
   "outputs": [
    {
     "data": {
      "text/html": [
       "<div><style>\n",
       ".dataframe > thead > tr,\n",
       ".dataframe > tbody > tr {\n",
       "  text-align: right;\n",
       "  white-space: pre-wrap;\n",
       "}\n",
       "</style>\n",
       "<small>shape: (5, 8)</small><table border=\"1\" class=\"dataframe\"><thead><tr><th>open_time</th><th>open</th><th>high</th><th>low</th><th>close</th><th>volume</th><th>price</th><th>garman_klass</th></tr><tr><td>datetime[ms]</td><td>f64</td><td>f64</td><td>f64</td><td>f64</td><td>f64</td><td>f64</td><td>f64</td></tr></thead><tbody><tr><td>2023-11-01 00:00:00</td><td>34651.4</td><td>34676.5</td><td>34650.0</td><td>34669.9</td><td>376.04</td><td>34637.4</td><td>1.8218e-7</td></tr><tr><td>2023-11-01 00:01:00</td><td>34669.9</td><td>34684.0</td><td>34637.3</td><td>34637.4</td><td>431.177</td><td>34651.4</td><td>5.6790e-7</td></tr><tr><td>2023-11-01 00:02:00</td><td>34637.4</td><td>34653.4</td><td>34632.5</td><td>34651.4</td><td>175.894</td><td>34621.1</td><td>1.1890e-7</td></tr><tr><td>2023-11-01 00:03:00</td><td>34651.3</td><td>34651.4</td><td>34608.6</td><td>34621.1</td><td>476.587</td><td>34615.4</td><td>4.7007e-7</td></tr><tr><td>2023-11-01 00:04:00</td><td>34621.1</td><td>34622.6</td><td>34592.0</td><td>34615.4</td><td>546.312</td><td>34599.4</td><td>3.8044e-7</td></tr></tbody></table></div>"
      ],
      "text/plain": [
       "shape: (5, 8)\n",
       "┌─────────────────────┬─────────┬─────────┬─────────┬─────────┬─────────┬─────────┬──────────────┐\n",
       "│ open_time           ┆ open    ┆ high    ┆ low     ┆ close   ┆ volume  ┆ price   ┆ garman_klass │\n",
       "│ ---                 ┆ ---     ┆ ---     ┆ ---     ┆ ---     ┆ ---     ┆ ---     ┆ ---          │\n",
       "│ datetime[ms]        ┆ f64     ┆ f64     ┆ f64     ┆ f64     ┆ f64     ┆ f64     ┆ f64          │\n",
       "╞═════════════════════╪═════════╪═════════╪═════════╪═════════╪═════════╪═════════╪══════════════╡\n",
       "│ 2023-11-01 00:00:00 ┆ 34651.4 ┆ 34676.5 ┆ 34650.0 ┆ 34669.9 ┆ 376.04  ┆ 34637.4 ┆ 1.8218e-7    │\n",
       "│ 2023-11-01 00:01:00 ┆ 34669.9 ┆ 34684.0 ┆ 34637.3 ┆ 34637.4 ┆ 431.177 ┆ 34651.4 ┆ 5.6790e-7    │\n",
       "│ 2023-11-01 00:02:00 ┆ 34637.4 ┆ 34653.4 ┆ 34632.5 ┆ 34651.4 ┆ 175.894 ┆ 34621.1 ┆ 1.1890e-7    │\n",
       "│ 2023-11-01 00:03:00 ┆ 34651.3 ┆ 34651.4 ┆ 34608.6 ┆ 34621.1 ┆ 476.587 ┆ 34615.4 ┆ 4.7007e-7    │\n",
       "│ 2023-11-01 00:04:00 ┆ 34621.1 ┆ 34622.6 ┆ 34592.0 ┆ 34615.4 ┆ 546.312 ┆ 34599.4 ┆ 3.8044e-7    │\n",
       "└─────────────────────┴─────────┴─────────┴─────────┴─────────┴─────────┴─────────┴──────────────┘"
      ]
     },
     "execution_count": 28,
     "metadata": {},
     "output_type": "execute_result"
    }
   ],
   "source": [
    "# Garman Klass volatility\n",
    "\n",
    "data_1m = data_1m.with_columns(pl.Series(name = 'garman_klass', values = ((np.log(data_1m['high'] / data_1m['low'])) ** 2) / 2 - (2 * np.log(2) - 1) * (np.log(data_1m['close']) - np.log(data_1m['open'])) ** 2))\n",
    "data_1m.head()"
   ]
  },
  {
   "cell_type": "code",
   "execution_count": 29,
   "metadata": {},
   "outputs": [
    {
     "data": {
      "text/html": [
       "<div><style>\n",
       ".dataframe > thead > tr,\n",
       ".dataframe > tbody > tr {\n",
       "  text-align: right;\n",
       "  white-space: pre-wrap;\n",
       "}\n",
       "</style>\n",
       "<small>shape: (5, 9)</small><table border=\"1\" class=\"dataframe\"><thead><tr><th>open_time</th><th>open</th><th>high</th><th>low</th><th>close</th><th>volume</th><th>price</th><th>garman_klass</th><th>rsi</th></tr><tr><td>datetime[ms]</td><td>f64</td><td>f64</td><td>f64</td><td>f64</td><td>f64</td><td>f64</td><td>f64</td><td>f64</td></tr></thead><tbody><tr><td>2023-11-01 00:13:00</td><td>34616.3</td><td>34616.4</td><td>34592.4</td><td>34612.5</td><td>188.053</td><td>34604.6</td><td>2.3585e-7</td><td>40.832323</td></tr><tr><td>2023-11-01 00:14:00</td><td>34612.4</td><td>34612.5</td><td>34593.3</td><td>34604.6</td><td>139.795</td><td>34601.3</td><td>1.3432e-7</td><td>38.646902</td></tr><tr><td>2023-11-01 00:15:00</td><td>34604.7</td><td>34620.1</td><td>34593.0</td><td>34601.3</td><td>203.441</td><td>34630.1</td><td>3.0288e-7</td><td>37.738277</td></tr><tr><td>2023-11-01 00:16:00</td><td>34601.3</td><td>34647.7</td><td>34601.3</td><td>34630.1</td><td>338.477</td><td>34615.8</td><td>6.3053e-7</td><td>49.006344</td></tr><tr><td>2023-11-01 00:17:00</td><td>34630.1</td><td>34636.6</td><td>34607.8</td><td>34615.8</td><td>166.35</td><td>34614.0</td><td>2.8008e-7</td><td>44.682282</td></tr></tbody></table></div>"
      ],
      "text/plain": [
       "shape: (5, 9)\n",
       "┌──────────────┬─────────┬─────────┬─────────┬───┬─────────┬─────────┬──────────────┬───────────┐\n",
       "│ open_time    ┆ open    ┆ high    ┆ low     ┆ … ┆ volume  ┆ price   ┆ garman_klass ┆ rsi       │\n",
       "│ ---          ┆ ---     ┆ ---     ┆ ---     ┆   ┆ ---     ┆ ---     ┆ ---          ┆ ---       │\n",
       "│ datetime[ms] ┆ f64     ┆ f64     ┆ f64     ┆   ┆ f64     ┆ f64     ┆ f64          ┆ f64       │\n",
       "╞══════════════╪═════════╪═════════╪═════════╪═══╪═════════╪═════════╪══════════════╪═══════════╡\n",
       "│ 2023-11-01   ┆ 34616.3 ┆ 34616.4 ┆ 34592.4 ┆ … ┆ 188.053 ┆ 34604.6 ┆ 2.3585e-7    ┆ 40.832323 │\n",
       "│ 00:13:00     ┆         ┆         ┆         ┆   ┆         ┆         ┆              ┆           │\n",
       "│ 2023-11-01   ┆ 34612.4 ┆ 34612.5 ┆ 34593.3 ┆ … ┆ 139.795 ┆ 34601.3 ┆ 1.3432e-7    ┆ 38.646902 │\n",
       "│ 00:14:00     ┆         ┆         ┆         ┆   ┆         ┆         ┆              ┆           │\n",
       "│ 2023-11-01   ┆ 34604.7 ┆ 34620.1 ┆ 34593.0 ┆ … ┆ 203.441 ┆ 34630.1 ┆ 3.0288e-7    ┆ 37.738277 │\n",
       "│ 00:15:00     ┆         ┆         ┆         ┆   ┆         ┆         ┆              ┆           │\n",
       "│ 2023-11-01   ┆ 34601.3 ┆ 34647.7 ┆ 34601.3 ┆ … ┆ 338.477 ┆ 34615.8 ┆ 6.3053e-7    ┆ 49.006344 │\n",
       "│ 00:16:00     ┆         ┆         ┆         ┆   ┆         ┆         ┆              ┆           │\n",
       "│ 2023-11-01   ┆ 34630.1 ┆ 34636.6 ┆ 34607.8 ┆ … ┆ 166.35  ┆ 34614.0 ┆ 2.8008e-7    ┆ 44.682282 │\n",
       "│ 00:17:00     ┆         ┆         ┆         ┆   ┆         ┆         ┆              ┆           │\n",
       "└──────────────┴─────────┴─────────┴─────────┴───┴─────────┴─────────┴──────────────┴───────────┘"
      ]
     },
     "execution_count": 29,
     "metadata": {},
     "output_type": "execute_result"
    }
   ],
   "source": [
    "# RSI\n",
    "data_1m = data_1m.with_columns(pl.Series(name = 'rsi', values = ta.momentum.rsi(data_1m['close'].to_pandas(), 14)))\n",
    "data_1m = data_1m.drop_nulls()\n",
    "data_1m.head()"
   ]
  },
  {
   "cell_type": "code",
   "execution_count": 30,
   "metadata": {},
   "outputs": [
    {
     "data": {
      "text/html": [
       "<div><style>\n",
       ".dataframe > thead > tr,\n",
       ".dataframe > tbody > tr {\n",
       "  text-align: right;\n",
       "  white-space: pre-wrap;\n",
       "}\n",
       "</style>\n",
       "<small>shape: (5, 12)</small><table border=\"1\" class=\"dataframe\"><thead><tr><th>open_time</th><th>open</th><th>high</th><th>low</th><th>close</th><th>volume</th><th>price</th><th>garman_klass</th><th>rsi</th><th>bb_low</th><th>bb_mid</th><th>bb_high</th></tr><tr><td>datetime[ms]</td><td>f64</td><td>f64</td><td>f64</td><td>f64</td><td>f64</td><td>f64</td><td>f64</td><td>f64</td><td>f64</td><td>f64</td><td>f64</td></tr></thead><tbody><tr><td>2023-11-01 00:32:00</td><td>34559.2</td><td>34569.5</td><td>34552.2</td><td>34566.2</td><td>102.909</td><td>34584.3</td><td>1.0944e-7</td><td>43.419364</td><td>34518.524716</td><td>34583.755</td><td>34648.985284</td></tr><tr><td>2023-11-01 00:33:00</td><td>34566.2</td><td>34585.7</td><td>34556.0</td><td>34584.3</td><td>208.549</td><td>34587.9</td><td>2.6317e-7</td><td>48.829956</td><td>34518.455706</td><td>34582.345</td><td>34646.234294</td></tr><tr><td>2023-11-01 00:34:00</td><td>34584.2</td><td>34599.0</td><td>34565.8</td><td>34587.9</td><td>234.057</td><td>34589.5</td><td>4.5640e-7</td><td>49.857016</td><td>34518.373896</td><td>34581.51</td><td>34644.646104</td></tr><tr><td>2023-11-01 00:35:00</td><td>34587.9</td><td>34618.1</td><td>34587.8</td><td>34589.5</td><td>298.032</td><td>34614.2</td><td>3.8255e-7</td><td>50.33415</td><td>34518.316371</td><td>34580.92</td><td>34643.523629</td></tr><tr><td>2023-11-01 00:36:00</td><td>34589.4</td><td>34617.0</td><td>34580.7</td><td>34614.2</td><td>159.501</td><td>34600.6</td><td>3.5194e-7</td><td>57.117868</td><td>34519.672841</td><td>34580.125</td><td>34640.577159</td></tr></tbody></table></div>"
      ],
      "text/plain": [
       "shape: (5, 12)\n",
       "┌─────────────┬─────────┬─────────┬─────────┬───┬───────────┬─────────────┬───────────┬────────────┐\n",
       "│ open_time   ┆ open    ┆ high    ┆ low     ┆ … ┆ rsi       ┆ bb_low      ┆ bb_mid    ┆ bb_high    │\n",
       "│ ---         ┆ ---     ┆ ---     ┆ ---     ┆   ┆ ---       ┆ ---         ┆ ---       ┆ ---        │\n",
       "│ datetime[ms ┆ f64     ┆ f64     ┆ f64     ┆   ┆ f64       ┆ f64         ┆ f64       ┆ f64        │\n",
       "│ ]           ┆         ┆         ┆         ┆   ┆           ┆             ┆           ┆            │\n",
       "╞═════════════╪═════════╪═════════╪═════════╪═══╪═══════════╪═════════════╪═══════════╪════════════╡\n",
       "│ 2023-11-01  ┆ 34559.2 ┆ 34569.5 ┆ 34552.2 ┆ … ┆ 43.419364 ┆ 34518.52471 ┆ 34583.755 ┆ 34648.9852 │\n",
       "│ 00:32:00    ┆         ┆         ┆         ┆   ┆           ┆ 6           ┆           ┆ 84         │\n",
       "│ 2023-11-01  ┆ 34566.2 ┆ 34585.7 ┆ 34556.0 ┆ … ┆ 48.829956 ┆ 34518.45570 ┆ 34582.345 ┆ 34646.2342 │\n",
       "│ 00:33:00    ┆         ┆         ┆         ┆   ┆           ┆ 6           ┆           ┆ 94         │\n",
       "│ 2023-11-01  ┆ 34584.2 ┆ 34599.0 ┆ 34565.8 ┆ … ┆ 49.857016 ┆ 34518.37389 ┆ 34581.51  ┆ 34644.6461 │\n",
       "│ 00:34:00    ┆         ┆         ┆         ┆   ┆           ┆ 6           ┆           ┆ 04         │\n",
       "│ 2023-11-01  ┆ 34587.9 ┆ 34618.1 ┆ 34587.8 ┆ … ┆ 50.33415  ┆ 34518.31637 ┆ 34580.92  ┆ 34643.5236 │\n",
       "│ 00:35:00    ┆         ┆         ┆         ┆   ┆           ┆ 1           ┆           ┆ 29         │\n",
       "│ 2023-11-01  ┆ 34589.4 ┆ 34617.0 ┆ 34580.7 ┆ … ┆ 57.117868 ┆ 34519.67284 ┆ 34580.125 ┆ 34640.5771 │\n",
       "│ 00:36:00    ┆         ┆         ┆         ┆   ┆           ┆ 1           ┆           ┆ 59         │\n",
       "└─────────────┴─────────┴─────────┴─────────┴───┴───────────┴─────────────┴───────────┴────────────┘"
      ]
     },
     "execution_count": 30,
     "metadata": {},
     "output_type": "execute_result"
    }
   ],
   "source": [
    "# Bollinger Bands\n",
    "\n",
    "data_1m = data_1m.with_columns(pl.Series(name = 'bb_low', values = ta.volatility.bollinger_lband(data_1m['close'].to_pandas(), 20)))\n",
    "data_1m = data_1m.with_columns(pl.Series(name = 'bb_mid', values = ta.volatility.bollinger_mavg(data_1m['close'].to_pandas(), 20)))\n",
    "data_1m = data_1m.with_columns(pl.Series(name = 'bb_high', values = ta.volatility.bollinger_hband(data_1m['close'].to_pandas(), 20)))\n",
    "\n",
    "data_1m = data_1m.drop_nulls()\n",
    "data_1m.head()"
   ]
  },
  {
   "cell_type": "code",
   "execution_count": 31,
   "metadata": {},
   "outputs": [
    {
     "data": {
      "text/html": [
       "<div><style>\n",
       ".dataframe > thead > tr,\n",
       ".dataframe > tbody > tr {\n",
       "  text-align: right;\n",
       "  white-space: pre-wrap;\n",
       "}\n",
       "</style>\n",
       "<small>shape: (5, 13)</small><table border=\"1\" class=\"dataframe\"><thead><tr><th>open_time</th><th>open</th><th>high</th><th>low</th><th>close</th><th>volume</th><th>price</th><th>garman_klass</th><th>rsi</th><th>bb_low</th><th>bb_mid</th><th>bb_high</th><th>atr</th></tr><tr><td>datetime[ms]</td><td>f64</td><td>f64</td><td>f64</td><td>f64</td><td>f64</td><td>f64</td><td>f64</td><td>f64</td><td>f64</td><td>f64</td><td>f64</td><td>f64</td></tr></thead><tbody><tr><td>2023-11-30 23:54:00</td><td>37695.4</td><td>37699.9</td><td>37695.3</td><td>37699.9</td><td>26.133</td><td>37698.6</td><td>1.9404e-9</td><td>50.512426</td><td>37686.838948</td><td>37703.38</td><td>37719.921052</td><td>10.163123</td></tr><tr><td>2023-11-30 23:55:00</td><td>37699.9</td><td>37701.9</td><td>37698.6</td><td>37698.6</td><td>29.083</td><td>37696.1</td><td>3.3716e-9</td><td>49.811063</td><td>37686.381411</td><td>37702.96</td><td>37719.538589</td><td>9.6729</td></tr><tr><td>2023-11-30 23:56:00</td><td>37698.6</td><td>37698.7</td><td>37696.0</td><td>37696.1</td><td>6.072</td><td>37691.9</td><td>8.6600e-10</td><td>48.418741</td><td>37686.267204</td><td>37702.915</td><td>37719.562796</td><td>9.174836</td></tr><tr><td>2023-11-30 23:57:00</td><td>37696.0</td><td>37696.1</td><td>37691.8</td><td>37691.9</td><td>24.287</td><td>37697.8</td><td>1.9365e-9</td><td>46.087991</td><td>37686.680771</td><td>37703.02</td><td>37719.359229</td><td>8.826633</td></tr><tr><td>2023-11-30 23:58:00</td><td>37691.9</td><td>37697.8</td><td>37691.8</td><td>37697.8</td><td>20.963</td><td>37716.8</td><td>3.2044e-9</td><td>49.747534</td><td>37687.036628</td><td>37703.155</td><td>37719.273372</td><td>8.624731</td></tr></tbody></table></div>"
      ],
      "text/plain": [
       "shape: (5, 13)\n",
       "┌─────────────┬─────────┬─────────┬─────────┬───┬─────────────┬───────────┬────────────┬───────────┐\n",
       "│ open_time   ┆ open    ┆ high    ┆ low     ┆ … ┆ bb_low      ┆ bb_mid    ┆ bb_high    ┆ atr       │\n",
       "│ ---         ┆ ---     ┆ ---     ┆ ---     ┆   ┆ ---         ┆ ---       ┆ ---        ┆ ---       │\n",
       "│ datetime[ms ┆ f64     ┆ f64     ┆ f64     ┆   ┆ f64         ┆ f64       ┆ f64        ┆ f64       │\n",
       "│ ]           ┆         ┆         ┆         ┆   ┆             ┆           ┆            ┆           │\n",
       "╞═════════════╪═════════╪═════════╪═════════╪═══╪═════════════╪═══════════╪════════════╪═══════════╡\n",
       "│ 2023-11-30  ┆ 37695.4 ┆ 37699.9 ┆ 37695.3 ┆ … ┆ 37686.83894 ┆ 37703.38  ┆ 37719.9210 ┆ 10.163123 │\n",
       "│ 23:54:00    ┆         ┆         ┆         ┆   ┆ 8           ┆           ┆ 52         ┆           │\n",
       "│ 2023-11-30  ┆ 37699.9 ┆ 37701.9 ┆ 37698.6 ┆ … ┆ 37686.38141 ┆ 37702.96  ┆ 37719.5385 ┆ 9.6729    │\n",
       "│ 23:55:00    ┆         ┆         ┆         ┆   ┆ 1           ┆           ┆ 89         ┆           │\n",
       "│ 2023-11-30  ┆ 37698.6 ┆ 37698.7 ┆ 37696.0 ┆ … ┆ 37686.26720 ┆ 37702.915 ┆ 37719.5627 ┆ 9.174836  │\n",
       "│ 23:56:00    ┆         ┆         ┆         ┆   ┆ 4           ┆           ┆ 96         ┆           │\n",
       "│ 2023-11-30  ┆ 37696.0 ┆ 37696.1 ┆ 37691.8 ┆ … ┆ 37686.68077 ┆ 37703.02  ┆ 37719.3592 ┆ 8.826633  │\n",
       "│ 23:57:00    ┆         ┆         ┆         ┆   ┆ 1           ┆           ┆ 29         ┆           │\n",
       "│ 2023-11-30  ┆ 37691.9 ┆ 37697.8 ┆ 37691.8 ┆ … ┆ 37687.03662 ┆ 37703.155 ┆ 37719.2733 ┆ 8.624731  │\n",
       "│ 23:58:00    ┆         ┆         ┆         ┆   ┆ 8           ┆           ┆ 72         ┆           │\n",
       "└─────────────┴─────────┴─────────┴─────────┴───┴─────────────┴───────────┴────────────┴───────────┘"
      ]
     },
     "execution_count": 31,
     "metadata": {},
     "output_type": "execute_result"
    }
   ],
   "source": [
    "# ATR\n",
    "\n",
    "data_1m = data_1m.with_columns(pl.Series(name = 'atr', values = ta.volatility.average_true_range(data_1m['high'].to_pandas(), data_1m['low'].to_pandas(), data_1m['close'].to_pandas(), 14)))\n",
    "data_1m = data_1m.drop_nulls()\n",
    "data_1m.tail()"
   ]
  },
  {
   "cell_type": "code",
   "execution_count": 32,
   "metadata": {},
   "outputs": [
    {
     "data": {
      "text/html": [
       "<div><style>\n",
       ".dataframe > thead > tr,\n",
       ".dataframe > tbody > tr {\n",
       "  text-align: right;\n",
       "  white-space: pre-wrap;\n",
       "}\n",
       "</style>\n",
       "<small>shape: (5, 14)</small><table border=\"1\" class=\"dataframe\"><thead><tr><th>open_time</th><th>open</th><th>high</th><th>low</th><th>close</th><th>volume</th><th>price</th><th>garman_klass</th><th>rsi</th><th>bb_low</th><th>bb_mid</th><th>bb_high</th><th>atr</th><th>macd</th></tr><tr><td>datetime[ms]</td><td>f64</td><td>f64</td><td>f64</td><td>f64</td><td>f64</td><td>f64</td><td>f64</td><td>f64</td><td>f64</td><td>f64</td><td>f64</td><td>f64</td><td>f64</td></tr></thead><tbody><tr><td>2023-11-30 23:54:00</td><td>37695.4</td><td>37699.9</td><td>37695.3</td><td>37699.9</td><td>26.133</td><td>37698.6</td><td>1.9404e-9</td><td>50.512426</td><td>37686.838948</td><td>37703.38</td><td>37719.921052</td><td>10.163123</td><td>-3.497706</td></tr><tr><td>2023-11-30 23:55:00</td><td>37699.9</td><td>37701.9</td><td>37698.6</td><td>37698.6</td><td>29.083</td><td>37696.1</td><td>3.3716e-9</td><td>49.811063</td><td>37686.381411</td><td>37702.96</td><td>37719.538589</td><td>9.6729</td><td>-2.910565</td></tr><tr><td>2023-11-30 23:56:00</td><td>37698.6</td><td>37698.7</td><td>37696.0</td><td>37696.1</td><td>6.072</td><td>37691.9</td><td>8.6600e-10</td><td>48.418741</td><td>37686.267204</td><td>37702.915</td><td>37719.562796</td><td>9.174836</td><td>-2.217955</td></tr><tr><td>2023-11-30 23:57:00</td><td>37696.0</td><td>37696.1</td><td>37691.8</td><td>37691.9</td><td>24.287</td><td>37697.8</td><td>1.9365e-9</td><td>46.087991</td><td>37686.680771</td><td>37703.02</td><td>37719.359229</td><td>8.826633</td><td>-1.314994</td></tr><tr><td>2023-11-30 23:58:00</td><td>37691.9</td><td>37697.8</td><td>37691.8</td><td>37697.8</td><td>20.963</td><td>37716.8</td><td>3.2044e-9</td><td>49.747534</td><td>37687.036628</td><td>37703.155</td><td>37719.273372</td><td>8.624731</td><td>-1.063215</td></tr></tbody></table></div>"
      ],
      "text/plain": [
       "shape: (5, 14)\n",
       "┌──────────────┬─────────┬─────────┬─────────┬───┬───────────┬─────────────┬───────────┬───────────┐\n",
       "│ open_time    ┆ open    ┆ high    ┆ low     ┆ … ┆ bb_mid    ┆ bb_high     ┆ atr       ┆ macd      │\n",
       "│ ---          ┆ ---     ┆ ---     ┆ ---     ┆   ┆ ---       ┆ ---         ┆ ---       ┆ ---       │\n",
       "│ datetime[ms] ┆ f64     ┆ f64     ┆ f64     ┆   ┆ f64       ┆ f64         ┆ f64       ┆ f64       │\n",
       "╞══════════════╪═════════╪═════════╪═════════╪═══╪═══════════╪═════════════╪═══════════╪═══════════╡\n",
       "│ 2023-11-30   ┆ 37695.4 ┆ 37699.9 ┆ 37695.3 ┆ … ┆ 37703.38  ┆ 37719.92105 ┆ 10.163123 ┆ -3.497706 │\n",
       "│ 23:54:00     ┆         ┆         ┆         ┆   ┆           ┆ 2           ┆           ┆           │\n",
       "│ 2023-11-30   ┆ 37699.9 ┆ 37701.9 ┆ 37698.6 ┆ … ┆ 37702.96  ┆ 37719.53858 ┆ 9.6729    ┆ -2.910565 │\n",
       "│ 23:55:00     ┆         ┆         ┆         ┆   ┆           ┆ 9           ┆           ┆           │\n",
       "│ 2023-11-30   ┆ 37698.6 ┆ 37698.7 ┆ 37696.0 ┆ … ┆ 37702.915 ┆ 37719.56279 ┆ 9.174836  ┆ -2.217955 │\n",
       "│ 23:56:00     ┆         ┆         ┆         ┆   ┆           ┆ 6           ┆           ┆           │\n",
       "│ 2023-11-30   ┆ 37696.0 ┆ 37696.1 ┆ 37691.8 ┆ … ┆ 37703.02  ┆ 37719.35922 ┆ 8.826633  ┆ -1.314994 │\n",
       "│ 23:57:00     ┆         ┆         ┆         ┆   ┆           ┆ 9           ┆           ┆           │\n",
       "│ 2023-11-30   ┆ 37691.9 ┆ 37697.8 ┆ 37691.8 ┆ … ┆ 37703.155 ┆ 37719.27337 ┆ 8.624731  ┆ -1.063215 │\n",
       "│ 23:58:00     ┆         ┆         ┆         ┆   ┆           ┆ 2           ┆           ┆           │\n",
       "└──────────────┴─────────┴─────────┴─────────┴───┴───────────┴─────────────┴───────────┴───────────┘"
      ]
     },
     "execution_count": 32,
     "metadata": {},
     "output_type": "execute_result"
    }
   ],
   "source": [
    "# MACD\n",
    "\n",
    "data_1m = data_1m.with_columns(pl.Series(name = 'macd', values = ta.trend.macd(data_1m['close'].to_pandas(), 12, 26)))\n",
    "data_1m = data_1m.drop_nulls()\n",
    "data_1m.tail()"
   ]
  },
  {
   "cell_type": "code",
   "execution_count": 33,
   "metadata": {},
   "outputs": [],
   "source": [
    "data_1m = data_1m.to_pandas()"
   ]
  },
  {
   "cell_type": "code",
   "execution_count": 34,
   "metadata": {},
   "outputs": [
    {
     "data": {
      "text/html": [
       "<div>\n",
       "<style scoped>\n",
       "    .dataframe tbody tr th:only-of-type {\n",
       "        vertical-align: middle;\n",
       "    }\n",
       "\n",
       "    .dataframe tbody tr th {\n",
       "        vertical-align: top;\n",
       "    }\n",
       "\n",
       "    .dataframe thead th {\n",
       "        text-align: right;\n",
       "    }\n",
       "</style>\n",
       "<table border=\"1\" class=\"dataframe\">\n",
       "  <thead>\n",
       "    <tr style=\"text-align: right;\">\n",
       "      <th></th>\n",
       "      <th>open_time</th>\n",
       "      <th>open</th>\n",
       "      <th>high</th>\n",
       "      <th>low</th>\n",
       "      <th>close</th>\n",
       "      <th>volume</th>\n",
       "      <th>price</th>\n",
       "      <th>garman_klass</th>\n",
       "      <th>rsi</th>\n",
       "      <th>bb_low</th>\n",
       "      <th>bb_mid</th>\n",
       "      <th>bb_high</th>\n",
       "      <th>atr</th>\n",
       "      <th>macd</th>\n",
       "    </tr>\n",
       "  </thead>\n",
       "  <tbody>\n",
       "    <tr>\n",
       "      <th>0</th>\n",
       "      <td>2023-11-01 00:57:00</td>\n",
       "      <td>34511.6</td>\n",
       "      <td>34525.8</td>\n",
       "      <td>34509.9</td>\n",
       "      <td>34517.8</td>\n",
       "      <td>115.599</td>\n",
       "      <td>34514.3</td>\n",
       "      <td>9.362554e-08</td>\n",
       "      <td>39.835006</td>\n",
       "      <td>34495.508614</td>\n",
       "      <td>34543.515</td>\n",
       "      <td>34591.521386</td>\n",
       "      <td>20.572241</td>\n",
       "      <td>12.800206</td>\n",
       "    </tr>\n",
       "    <tr>\n",
       "      <th>1</th>\n",
       "      <td>2023-11-01 00:58:00</td>\n",
       "      <td>34517.8</td>\n",
       "      <td>34521.0</td>\n",
       "      <td>34506.7</td>\n",
       "      <td>34514.3</td>\n",
       "      <td>247.365</td>\n",
       "      <td>34522.3</td>\n",
       "      <td>8.186117e-08</td>\n",
       "      <td>38.952615</td>\n",
       "      <td>34497.700508</td>\n",
       "      <td>34539.135</td>\n",
       "      <td>34580.569492</td>\n",
       "      <td>20.124224</td>\n",
       "      <td>13.285915</td>\n",
       "    </tr>\n",
       "    <tr>\n",
       "      <th>2</th>\n",
       "      <td>2023-11-01 00:59:00</td>\n",
       "      <td>34514.3</td>\n",
       "      <td>34524.5</td>\n",
       "      <td>34514.2</td>\n",
       "      <td>34522.3</td>\n",
       "      <td>83.725</td>\n",
       "      <td>34530.5</td>\n",
       "      <td>2.376720e-08</td>\n",
       "      <td>42.109166</td>\n",
       "      <td>34501.759440</td>\n",
       "      <td>34535.605</td>\n",
       "      <td>34569.450560</td>\n",
       "      <td>19.422494</td>\n",
       "      <td>12.876874</td>\n",
       "    </tr>\n",
       "    <tr>\n",
       "      <th>3</th>\n",
       "      <td>2023-11-01 01:00:00</td>\n",
       "      <td>34522.3</td>\n",
       "      <td>34538.4</td>\n",
       "      <td>34522.3</td>\n",
       "      <td>34530.5</td>\n",
       "      <td>150.399</td>\n",
       "      <td>34525.5</td>\n",
       "      <td>8.690825e-08</td>\n",
       "      <td>45.234942</td>\n",
       "      <td>34503.811558</td>\n",
       "      <td>34533.590</td>\n",
       "      <td>34563.368442</td>\n",
       "      <td>19.185173</td>\n",
       "      <td>11.755523</td>\n",
       "    </tr>\n",
       "    <tr>\n",
       "      <th>4</th>\n",
       "      <td>2023-11-01 01:01:00</td>\n",
       "      <td>34530.6</td>\n",
       "      <td>34537.2</td>\n",
       "      <td>34525.4</td>\n",
       "      <td>34525.5</td>\n",
       "      <td>86.857</td>\n",
       "      <td>34518.1</td>\n",
       "      <td>4.995812e-08</td>\n",
       "      <td>43.686014</td>\n",
       "      <td>34503.094318</td>\n",
       "      <td>34532.655</td>\n",
       "      <td>34562.215682</td>\n",
       "      <td>18.657661</td>\n",
       "      <td>11.141867</td>\n",
       "    </tr>\n",
       "  </tbody>\n",
       "</table>\n",
       "</div>"
      ],
      "text/plain": [
       "            open_time     open     high      low    close   volume    price  \\\n",
       "0 2023-11-01 00:57:00  34511.6  34525.8  34509.9  34517.8  115.599  34514.3   \n",
       "1 2023-11-01 00:58:00  34517.8  34521.0  34506.7  34514.3  247.365  34522.3   \n",
       "2 2023-11-01 00:59:00  34514.3  34524.5  34514.2  34522.3   83.725  34530.5   \n",
       "3 2023-11-01 01:00:00  34522.3  34538.4  34522.3  34530.5  150.399  34525.5   \n",
       "4 2023-11-01 01:01:00  34530.6  34537.2  34525.4  34525.5   86.857  34518.1   \n",
       "\n",
       "   garman_klass        rsi        bb_low     bb_mid       bb_high        atr  \\\n",
       "0  9.362554e-08  39.835006  34495.508614  34543.515  34591.521386  20.572241   \n",
       "1  8.186117e-08  38.952615  34497.700508  34539.135  34580.569492  20.124224   \n",
       "2  2.376720e-08  42.109166  34501.759440  34535.605  34569.450560  19.422494   \n",
       "3  8.690825e-08  45.234942  34503.811558  34533.590  34563.368442  19.185173   \n",
       "4  4.995812e-08  43.686014  34503.094318  34532.655  34562.215682  18.657661   \n",
       "\n",
       "        macd  \n",
       "0  12.800206  \n",
       "1  13.285915  \n",
       "2  12.876874  \n",
       "3  11.755523  \n",
       "4  11.141867  "
      ]
     },
     "execution_count": 34,
     "metadata": {},
     "output_type": "execute_result"
    }
   ],
   "source": [
    "data_1m.head()"
   ]
  },
  {
   "cell_type": "code",
   "execution_count": 35,
   "metadata": {},
   "outputs": [],
   "source": [
    "# Generating trade signal (Buy, Sell or Neutral) based on rsi\n",
    "\n",
    "data_1m['rsi_signal'] = np.where(data_1m['rsi'] > 70, \"Sell\", np.where(data_1m['rsi'] < 30, \"Buy\", \"Neutral\"))"
   ]
  },
  {
   "cell_type": "code",
   "execution_count": 36,
   "metadata": {},
   "outputs": [
    {
     "data": {
      "text/plain": [
       "rsi_signal\n",
       "Neutral    40026\n",
       "Sell        1679\n",
       "Buy         1437\n",
       "Name: count, dtype: int64"
      ]
     },
     "execution_count": 36,
     "metadata": {},
     "output_type": "execute_result"
    }
   ],
   "source": [
    "data_1m['rsi_signal'].value_counts()"
   ]
  },
  {
   "cell_type": "code",
   "execution_count": 37,
   "metadata": {},
   "outputs": [
    {
     "data": {
      "text/html": [
       "<div>\n",
       "<style scoped>\n",
       "    .dataframe tbody tr th:only-of-type {\n",
       "        vertical-align: middle;\n",
       "    }\n",
       "\n",
       "    .dataframe tbody tr th {\n",
       "        vertical-align: top;\n",
       "    }\n",
       "\n",
       "    .dataframe thead th {\n",
       "        text-align: right;\n",
       "    }\n",
       "</style>\n",
       "<table border=\"1\" class=\"dataframe\">\n",
       "  <thead>\n",
       "    <tr style=\"text-align: right;\">\n",
       "      <th></th>\n",
       "      <th>open_time</th>\n",
       "      <th>open</th>\n",
       "      <th>high</th>\n",
       "      <th>low</th>\n",
       "      <th>close</th>\n",
       "      <th>volume</th>\n",
       "      <th>price</th>\n",
       "      <th>garman_klass</th>\n",
       "      <th>rsi</th>\n",
       "      <th>bb_low</th>\n",
       "      <th>bb_mid</th>\n",
       "      <th>bb_high</th>\n",
       "      <th>atr</th>\n",
       "      <th>macd</th>\n",
       "      <th>rsi_signal</th>\n",
       "    </tr>\n",
       "  </thead>\n",
       "  <tbody>\n",
       "    <tr>\n",
       "      <th>0</th>\n",
       "      <td>2023-11-01 00:57:00</td>\n",
       "      <td>34511.6</td>\n",
       "      <td>34525.8</td>\n",
       "      <td>34509.9</td>\n",
       "      <td>34517.8</td>\n",
       "      <td>115.599</td>\n",
       "      <td>34514.3</td>\n",
       "      <td>9.362554e-08</td>\n",
       "      <td>39.835006</td>\n",
       "      <td>34495.508614</td>\n",
       "      <td>34543.515</td>\n",
       "      <td>34591.521386</td>\n",
       "      <td>20.572241</td>\n",
       "      <td>12.800206</td>\n",
       "      <td>Neutral</td>\n",
       "    </tr>\n",
       "    <tr>\n",
       "      <th>1</th>\n",
       "      <td>2023-11-01 00:58:00</td>\n",
       "      <td>34517.8</td>\n",
       "      <td>34521.0</td>\n",
       "      <td>34506.7</td>\n",
       "      <td>34514.3</td>\n",
       "      <td>247.365</td>\n",
       "      <td>34522.3</td>\n",
       "      <td>8.186117e-08</td>\n",
       "      <td>38.952615</td>\n",
       "      <td>34497.700508</td>\n",
       "      <td>34539.135</td>\n",
       "      <td>34580.569492</td>\n",
       "      <td>20.124224</td>\n",
       "      <td>13.285915</td>\n",
       "      <td>Neutral</td>\n",
       "    </tr>\n",
       "    <tr>\n",
       "      <th>2</th>\n",
       "      <td>2023-11-01 00:59:00</td>\n",
       "      <td>34514.3</td>\n",
       "      <td>34524.5</td>\n",
       "      <td>34514.2</td>\n",
       "      <td>34522.3</td>\n",
       "      <td>83.725</td>\n",
       "      <td>34530.5</td>\n",
       "      <td>2.376720e-08</td>\n",
       "      <td>42.109166</td>\n",
       "      <td>34501.759440</td>\n",
       "      <td>34535.605</td>\n",
       "      <td>34569.450560</td>\n",
       "      <td>19.422494</td>\n",
       "      <td>12.876874</td>\n",
       "      <td>Neutral</td>\n",
       "    </tr>\n",
       "    <tr>\n",
       "      <th>3</th>\n",
       "      <td>2023-11-01 01:00:00</td>\n",
       "      <td>34522.3</td>\n",
       "      <td>34538.4</td>\n",
       "      <td>34522.3</td>\n",
       "      <td>34530.5</td>\n",
       "      <td>150.399</td>\n",
       "      <td>34525.5</td>\n",
       "      <td>8.690825e-08</td>\n",
       "      <td>45.234942</td>\n",
       "      <td>34503.811558</td>\n",
       "      <td>34533.590</td>\n",
       "      <td>34563.368442</td>\n",
       "      <td>19.185173</td>\n",
       "      <td>11.755523</td>\n",
       "      <td>Neutral</td>\n",
       "    </tr>\n",
       "    <tr>\n",
       "      <th>4</th>\n",
       "      <td>2023-11-01 01:01:00</td>\n",
       "      <td>34530.6</td>\n",
       "      <td>34537.2</td>\n",
       "      <td>34525.4</td>\n",
       "      <td>34525.5</td>\n",
       "      <td>86.857</td>\n",
       "      <td>34518.1</td>\n",
       "      <td>4.995812e-08</td>\n",
       "      <td>43.686014</td>\n",
       "      <td>34503.094318</td>\n",
       "      <td>34532.655</td>\n",
       "      <td>34562.215682</td>\n",
       "      <td>18.657661</td>\n",
       "      <td>11.141867</td>\n",
       "      <td>Neutral</td>\n",
       "    </tr>\n",
       "  </tbody>\n",
       "</table>\n",
       "</div>"
      ],
      "text/plain": [
       "            open_time     open     high      low    close   volume    price  \\\n",
       "0 2023-11-01 00:57:00  34511.6  34525.8  34509.9  34517.8  115.599  34514.3   \n",
       "1 2023-11-01 00:58:00  34517.8  34521.0  34506.7  34514.3  247.365  34522.3   \n",
       "2 2023-11-01 00:59:00  34514.3  34524.5  34514.2  34522.3   83.725  34530.5   \n",
       "3 2023-11-01 01:00:00  34522.3  34538.4  34522.3  34530.5  150.399  34525.5   \n",
       "4 2023-11-01 01:01:00  34530.6  34537.2  34525.4  34525.5   86.857  34518.1   \n",
       "\n",
       "   garman_klass        rsi        bb_low     bb_mid       bb_high        atr  \\\n",
       "0  9.362554e-08  39.835006  34495.508614  34543.515  34591.521386  20.572241   \n",
       "1  8.186117e-08  38.952615  34497.700508  34539.135  34580.569492  20.124224   \n",
       "2  2.376720e-08  42.109166  34501.759440  34535.605  34569.450560  19.422494   \n",
       "3  8.690825e-08  45.234942  34503.811558  34533.590  34563.368442  19.185173   \n",
       "4  4.995812e-08  43.686014  34503.094318  34532.655  34562.215682  18.657661   \n",
       "\n",
       "        macd rsi_signal  \n",
       "0  12.800206    Neutral  \n",
       "1  13.285915    Neutral  \n",
       "2  12.876874    Neutral  \n",
       "3  11.755523    Neutral  \n",
       "4  11.141867    Neutral  "
      ]
     },
     "execution_count": 37,
     "metadata": {},
     "output_type": "execute_result"
    }
   ],
   "source": [
    "data_1m.head()"
   ]
  },
  {
   "cell_type": "code",
   "execution_count": 38,
   "metadata": {},
   "outputs": [],
   "source": [
    "# Generating trade signal (Buy, Sell or Neutral) based on Bollinger Bands\n",
    "\n",
    "data_1m['bb_signal'] = np.where(data_1m['close'] > data_1m['bb_high'], \"Sell\", np.where(data_1m['close'] < data_1m['bb_low'], \"Buy\", \"Neutral\"))"
   ]
  },
  {
   "cell_type": "code",
   "execution_count": 39,
   "metadata": {},
   "outputs": [
    {
     "data": {
      "text/html": [
       "<div>\n",
       "<style scoped>\n",
       "    .dataframe tbody tr th:only-of-type {\n",
       "        vertical-align: middle;\n",
       "    }\n",
       "\n",
       "    .dataframe tbody tr th {\n",
       "        vertical-align: top;\n",
       "    }\n",
       "\n",
       "    .dataframe thead th {\n",
       "        text-align: right;\n",
       "    }\n",
       "</style>\n",
       "<table border=\"1\" class=\"dataframe\">\n",
       "  <thead>\n",
       "    <tr style=\"text-align: right;\">\n",
       "      <th></th>\n",
       "      <th>open_time</th>\n",
       "      <th>open</th>\n",
       "      <th>high</th>\n",
       "      <th>low</th>\n",
       "      <th>close</th>\n",
       "      <th>volume</th>\n",
       "      <th>price</th>\n",
       "      <th>garman_klass</th>\n",
       "      <th>rsi</th>\n",
       "      <th>bb_low</th>\n",
       "      <th>bb_mid</th>\n",
       "      <th>bb_high</th>\n",
       "      <th>atr</th>\n",
       "      <th>macd</th>\n",
       "      <th>rsi_signal</th>\n",
       "      <th>bb_signal</th>\n",
       "    </tr>\n",
       "  </thead>\n",
       "  <tbody>\n",
       "    <tr>\n",
       "      <th>0</th>\n",
       "      <td>2023-11-01 00:57:00</td>\n",
       "      <td>34511.6</td>\n",
       "      <td>34525.8</td>\n",
       "      <td>34509.9</td>\n",
       "      <td>34517.8</td>\n",
       "      <td>115.599</td>\n",
       "      <td>34514.3</td>\n",
       "      <td>9.362554e-08</td>\n",
       "      <td>39.835006</td>\n",
       "      <td>34495.508614</td>\n",
       "      <td>34543.515</td>\n",
       "      <td>34591.521386</td>\n",
       "      <td>20.572241</td>\n",
       "      <td>12.800206</td>\n",
       "      <td>Neutral</td>\n",
       "      <td>Neutral</td>\n",
       "    </tr>\n",
       "    <tr>\n",
       "      <th>1</th>\n",
       "      <td>2023-11-01 00:58:00</td>\n",
       "      <td>34517.8</td>\n",
       "      <td>34521.0</td>\n",
       "      <td>34506.7</td>\n",
       "      <td>34514.3</td>\n",
       "      <td>247.365</td>\n",
       "      <td>34522.3</td>\n",
       "      <td>8.186117e-08</td>\n",
       "      <td>38.952615</td>\n",
       "      <td>34497.700508</td>\n",
       "      <td>34539.135</td>\n",
       "      <td>34580.569492</td>\n",
       "      <td>20.124224</td>\n",
       "      <td>13.285915</td>\n",
       "      <td>Neutral</td>\n",
       "      <td>Neutral</td>\n",
       "    </tr>\n",
       "    <tr>\n",
       "      <th>2</th>\n",
       "      <td>2023-11-01 00:59:00</td>\n",
       "      <td>34514.3</td>\n",
       "      <td>34524.5</td>\n",
       "      <td>34514.2</td>\n",
       "      <td>34522.3</td>\n",
       "      <td>83.725</td>\n",
       "      <td>34530.5</td>\n",
       "      <td>2.376720e-08</td>\n",
       "      <td>42.109166</td>\n",
       "      <td>34501.759440</td>\n",
       "      <td>34535.605</td>\n",
       "      <td>34569.450560</td>\n",
       "      <td>19.422494</td>\n",
       "      <td>12.876874</td>\n",
       "      <td>Neutral</td>\n",
       "      <td>Neutral</td>\n",
       "    </tr>\n",
       "    <tr>\n",
       "      <th>3</th>\n",
       "      <td>2023-11-01 01:00:00</td>\n",
       "      <td>34522.3</td>\n",
       "      <td>34538.4</td>\n",
       "      <td>34522.3</td>\n",
       "      <td>34530.5</td>\n",
       "      <td>150.399</td>\n",
       "      <td>34525.5</td>\n",
       "      <td>8.690825e-08</td>\n",
       "      <td>45.234942</td>\n",
       "      <td>34503.811558</td>\n",
       "      <td>34533.590</td>\n",
       "      <td>34563.368442</td>\n",
       "      <td>19.185173</td>\n",
       "      <td>11.755523</td>\n",
       "      <td>Neutral</td>\n",
       "      <td>Neutral</td>\n",
       "    </tr>\n",
       "    <tr>\n",
       "      <th>4</th>\n",
       "      <td>2023-11-01 01:01:00</td>\n",
       "      <td>34530.6</td>\n",
       "      <td>34537.2</td>\n",
       "      <td>34525.4</td>\n",
       "      <td>34525.5</td>\n",
       "      <td>86.857</td>\n",
       "      <td>34518.1</td>\n",
       "      <td>4.995812e-08</td>\n",
       "      <td>43.686014</td>\n",
       "      <td>34503.094318</td>\n",
       "      <td>34532.655</td>\n",
       "      <td>34562.215682</td>\n",
       "      <td>18.657661</td>\n",
       "      <td>11.141867</td>\n",
       "      <td>Neutral</td>\n",
       "      <td>Neutral</td>\n",
       "    </tr>\n",
       "  </tbody>\n",
       "</table>\n",
       "</div>"
      ],
      "text/plain": [
       "            open_time     open     high      low    close   volume    price  \\\n",
       "0 2023-11-01 00:57:00  34511.6  34525.8  34509.9  34517.8  115.599  34514.3   \n",
       "1 2023-11-01 00:58:00  34517.8  34521.0  34506.7  34514.3  247.365  34522.3   \n",
       "2 2023-11-01 00:59:00  34514.3  34524.5  34514.2  34522.3   83.725  34530.5   \n",
       "3 2023-11-01 01:00:00  34522.3  34538.4  34522.3  34530.5  150.399  34525.5   \n",
       "4 2023-11-01 01:01:00  34530.6  34537.2  34525.4  34525.5   86.857  34518.1   \n",
       "\n",
       "   garman_klass        rsi        bb_low     bb_mid       bb_high        atr  \\\n",
       "0  9.362554e-08  39.835006  34495.508614  34543.515  34591.521386  20.572241   \n",
       "1  8.186117e-08  38.952615  34497.700508  34539.135  34580.569492  20.124224   \n",
       "2  2.376720e-08  42.109166  34501.759440  34535.605  34569.450560  19.422494   \n",
       "3  8.690825e-08  45.234942  34503.811558  34533.590  34563.368442  19.185173   \n",
       "4  4.995812e-08  43.686014  34503.094318  34532.655  34562.215682  18.657661   \n",
       "\n",
       "        macd rsi_signal bb_signal  \n",
       "0  12.800206    Neutral   Neutral  \n",
       "1  13.285915    Neutral   Neutral  \n",
       "2  12.876874    Neutral   Neutral  \n",
       "3  11.755523    Neutral   Neutral  \n",
       "4  11.141867    Neutral   Neutral  "
      ]
     },
     "execution_count": 39,
     "metadata": {},
     "output_type": "execute_result"
    }
   ],
   "source": [
    "data_1m.head()"
   ]
  },
  {
   "cell_type": "code",
   "execution_count": 40,
   "metadata": {},
   "outputs": [
    {
     "data": {
      "text/plain": [
       "bb_signal\n",
       "Neutral    38346\n",
       "Buy         2513\n",
       "Sell        2283\n",
       "Name: count, dtype: int64"
      ]
     },
     "execution_count": 40,
     "metadata": {},
     "output_type": "execute_result"
    }
   ],
   "source": [
    "data_1m['bb_signal'].value_counts()"
   ]
  },
  {
   "cell_type": "code",
   "execution_count": null,
   "metadata": {},
   "outputs": [],
   "source": []
  }
 ],
 "metadata": {
  "kernelspec": {
   "display_name": "Python 3",
   "language": "python",
   "name": "python3"
  },
  "language_info": {
   "codemirror_mode": {
    "name": "ipython",
    "version": 3
   },
   "file_extension": ".py",
   "mimetype": "text/x-python",
   "name": "python",
   "nbconvert_exporter": "python",
   "pygments_lexer": "ipython3",
   "version": "3.11.7"
  }
 },
 "nbformat": 4,
 "nbformat_minor": 2
}
